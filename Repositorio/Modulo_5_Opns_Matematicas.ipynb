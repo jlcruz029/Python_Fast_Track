{
 "cells": [
  {
   "cell_type": "code",
   "execution_count": null,
   "metadata": {},
   "outputs": [],
   "source": []
  },
  {
   "attachments": {},
   "cell_type": "markdown",
   "metadata": {},
   "source": [
    "## Operadores matematicas"
   ]
  },
  {
   "cell_type": "code",
   "execution_count": 3,
   "metadata": {},
   "outputs": [
    {
     "name": "stdout",
     "output_type": "stream",
     "text": [
      "suma y resta:  45\n",
      "multiplicacion y division:  8.0\n"
     ]
    }
   ],
   "source": [
    "suma_resta = 40 + 15 - 10\n",
    "print(\"suma y resta: \", variable)\n",
    "\n",
    "mult_division = 40 * 2 / 10 \n",
    "print(\"multiplicacion y division: \", mult_division)\n"
   ]
  },
  {
   "cell_type": "code",
   "execution_count": 4,
   "metadata": {},
   "outputs": [
    {
     "name": "stdout",
     "output_type": "stream",
     "text": [
      "17\n"
     ]
    }
   ],
   "source": [
    "# Trabajar con la division\n",
    "# Convertir segundos a minutos redondeado al menor se usa dobre //\n",
    "seconds = 1042\n",
    "display_minutes = 1042 // 60\n",
    "print(display_minutes)"
   ]
  },
  {
   "cell_type": "code",
   "execution_count": 6,
   "metadata": {},
   "outputs": [
    {
     "name": "stdout",
     "output_type": "stream",
     "text": [
      "redondeado:  17\n",
      "resto:  22\n"
     ]
    }
   ],
   "source": [
    "# Determinar el faltante para completar el valor. 17 * 60 = 1020, por lo tanto, el resto es 22\n",
    "seconds = 1042\n",
    "display_minutes = 1042 // 60\n",
    "display_seconds = 1042 % 60\n",
    "\n",
    "print(\"redondeado: \", display_minutes)\n",
    "print(\"resto: \", display_seconds)"
   ]
  },
  {
   "attachments": {},
   "cell_type": "markdown",
   "metadata": {},
   "source": [
    "## Orden de las operaciones\n",
    "1- parentesis\n",
    "2- Exponentes\n",
    "3- Multiplicacion y dibision\n",
    "4- Suma y resta"
   ]
  },
  {
   "cell_type": "code",
   "execution_count": 7,
   "metadata": {},
   "outputs": [
    {
     "name": "stdout",
     "output_type": "stream",
     "text": [
      "1084\n",
      "1084\n"
     ]
    }
   ],
   "source": [
    "# El resultado es el mismo en ambos casos\n",
    "result_1 = 1032 + 26 * 2\n",
    "result_2 = 1032 + (26 * 2)\n",
    "print(result_1)\n",
    "print(result_2)"
   ]
  },
  {
   "attachments": {},
   "cell_type": "markdown",
   "metadata": {},
   "source": [
    "## Convertir cadenas en numeros\n",
    "Dos tipos principales de numeros: Enteros (sin decimales) y Flotantes (con decimales)"
   ]
  },
  {
   "cell_type": "code",
   "execution_count": 10,
   "metadata": {},
   "outputs": [
    {
     "name": "stdout",
     "output_type": "stream",
     "text": [
      "215\n"
     ]
    }
   ],
   "source": [
    "# Convierte un texto en numero\n",
    "demo_int = int('215')\n",
    "print(demo_int)"
   ]
  },
  {
   "cell_type": "code",
   "execution_count": 11,
   "metadata": {},
   "outputs": [
    {
     "name": "stdout",
     "output_type": "stream",
     "text": [
      "215.3\n"
     ]
    }
   ],
   "source": [
    "demo_float = float('215.3')\n",
    "print(demo_float)"
   ]
  },
  {
   "attachments": {},
   "cell_type": "markdown",
   "metadata": {},
   "source": [
    "# Valores absolutos abs()\n",
    "# Redondeo round()"
   ]
  },
  {
   "cell_type": "code",
   "execution_count": 12,
   "metadata": {},
   "outputs": [
    {
     "name": "stdout",
     "output_type": "stream",
     "text": [
      "13\n",
      "12\n"
     ]
    }
   ],
   "source": [
    "from math import ceil, floor\n",
    "\n",
    "round_up = ceil(12.5)\n",
    "print(round_up)\n",
    "\n",
    "round_down = floor(12.5)\n",
    "print(round_down)"
   ]
  },
  {
   "attachments": {},
   "cell_type": "markdown",
   "metadata": {},
   "source": [
    "## Biblioteca Math\n",
    "Operciones y calculos mas avanzados\n",
    "Redondeo hacia arriba con cell y hacia abajo con floor"
   ]
  },
  {
   "cell_type": "code",
   "execution_count": 2,
   "metadata": {},
   "outputs": [
    {
     "name": "stdout",
     "output_type": "stream",
     "text": [
      "Redondeo hacia arriba:  13\n",
      "Redondeo hacia abajo:  12\n"
     ]
    }
   ],
   "source": [
    "from math import ceil, floor\n",
    "\n",
    "round_up = ceil(12.5)\n",
    "print(\"Redondeo hacia arriba: \", round_up)\n",
    "\n",
    "round_down = floor(12.5)\n",
    "print(\"Redondeo hacia abajo: \", round_down)"
   ]
  },
  {
   "attachments": {},
   "cell_type": "markdown",
   "metadata": {},
   "source": [
    "## Crear un programa para calcular la distancia entre planetas\n",
    "Imagina que estás creando un programa para calcular la distancia entre planetas. El programa permite a un usuario ingresar las distancias de dos planetas desde el sol, y calcula la distancia entre esos dos planetas. Además, deseas proporcionar la distancia tanto en millas como en kilómetros."
   ]
  },
  {
   "cell_type": "code",
   "execution_count": 8,
   "metadata": {},
   "outputs": [
    {
     "name": "stdout",
     "output_type": "stream",
     "text": [
      "La distancia de los planetas 1 y 2 al sol respectivamente es de:  1680 y  2460 millas\n",
      "Por lo tanto, la distancia entre los planetas 1 y 2 es:  2978.9259809535383 millas y equivale a:  4793.091903354243 km\n"
     ]
    }
   ],
   "source": [
    "# Calcula la ditancia entre dos planetas, dada su distancia respectiva al sol\n",
    "dist_plan_1 = input(\"Distancia del planeta 1 al sol (millas): \")\n",
    "dist_plan_2 = input(\"Distancia del planeta 2 al sol (millas): \")\n",
    "\n",
    "dist_plan_1 = int(dist_plan_1)\n",
    "dist_plan_2 = int(dist_plan_2)\n",
    "\n",
    "from math import sqrt\n",
    "dist_p1_p2 = sqrt(dist_plan_1**2 + dist_plan_2**2)\n",
    "dist_p1_p2_km = dist_p1_p2 * 1.609\n",
    "\n",
    "print(\"La distancia de los planetas 1 y 2 al sol respectivamente es de: \", dist_plan_1, \"y \", dist_plan_2, \"millas\")\n",
    "print(\"Por lo tanto, la distancia entre los planetas 1 y 2 es: \", dist_p1_p2, \"millas y equivale a: \", dist_p1_p2_km, \"km\")"
   ]
  }
 ],
 "metadata": {
  "kernelspec": {
   "display_name": "Python 3",
   "language": "python",
   "name": "python3"
  },
  "language_info": {
   "codemirror_mode": {
    "name": "ipython",
    "version": 3
   },
   "file_extension": ".py",
   "mimetype": "text/x-python",
   "name": "python",
   "nbconvert_exporter": "python",
   "pygments_lexer": "ipython3",
   "version": "3.11.4"
  },
  "orig_nbformat": 4
 },
 "nbformat": 4,
 "nbformat_minor": 2
}
