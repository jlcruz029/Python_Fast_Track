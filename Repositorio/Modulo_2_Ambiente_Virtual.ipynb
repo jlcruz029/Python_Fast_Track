{
 "cells": [
  {
   "attachments": {},
   "cell_type": "markdown",
   "metadata": {},
   "source": [
    "## Creando un ambiente virtual\n",
    "En la terminal, cambiar a directorio en donde se genera el ambiente virtual\n",
    "En mi caso fue: C:\\Users\\José Luis Cruz\\Documents\\Analytics\\Cursos y conferencias\\AI Center y Bosch cursos\n",
    "Ejecutar el comando python -m venv env (env es el nombre del entorno virtual)\n",
    "Activar el ambiente virtual con el comando env\\Scripts\\activate y responde (env) PS C:\\Users\\José Luis Cruz\\Documents\\Analytics\\Cursos y conferencias\\AI Center y Bosch cursos> \n",
    "Para ver los paquetes instalados, teclear pip freeze"
   ]
  },
  {
   "cell_type": "code",
   "execution_count": 2,
   "metadata": {},
   "outputs": [
    {
     "name": "stdout",
     "output_type": "stream",
     "text": [
      "2023-06-28 19:42:01.717673\n",
      "2023-08-04 10:42:01.717673\n"
     ]
    }
   ],
   "source": [
    "from datetime import *\n",
    "from dateutil.relativedelta import *\n",
    "now = datetime.now()\n",
    "print(now)\n",
    "\n",
    "now = now + relativedelta(months=1, weeks=1, hour=10)\n",
    "\n",
    "print(now)"
   ]
  }
 ],
 "metadata": {
  "kernelspec": {
   "display_name": "Python 3",
   "language": "python",
   "name": "python3"
  },
  "language_info": {
   "codemirror_mode": {
    "name": "ipython",
    "version": 3
   },
   "file_extension": ".py",
   "mimetype": "text/x-python",
   "name": "python",
   "nbconvert_exporter": "python",
   "pygments_lexer": "ipython3",
   "version": "3.11.4"
  },
  "orig_nbformat": 4
 },
 "nbformat": 4,
 "nbformat_minor": 2
}
