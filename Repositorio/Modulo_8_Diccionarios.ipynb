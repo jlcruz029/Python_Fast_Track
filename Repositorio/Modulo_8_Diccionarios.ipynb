{
 "cells": [
  {
   "attachments": {},
   "cell_type": "markdown",
   "metadata": {},
   "source": [
    "## Administrar datos con diccionarios\n",
    "Trabajar con datos mas complejos que cadenas y valores boleanos\n",
    "Los diccionarios de Python permiten trabajar con conjuntos de datos relacionados. Un diccionario es una colección de pares clave-valor. Piensa que es como un grupo de variables dentro de una cajita, donde la clave es el nombre de la variable y el valor es el valor almacenado en su interior.\n",
    "\n",
    "\n",
    "Escenario: Análisis de un sistema solar\n",
    "Imagina que vas a crear un programa para analizar el número de lunas en diferentes planetas del sistema solar. Quieres mostrar información al usuario y poder calcular valores diferentes, como el número total de lunas en el sistema solar. Sería tedioso hacerlo con variables, que solo pueden almacenar una cadena o un número.\n",
    "\n",
    "En este módulo, crearás un programa que puede realizar estos tipos de operaciones. Utilizaremos diccionarios de Python para modelar los datos. Al final del módulo, podrás trabajar con diccionarios de Python para almacenar datos complejos."
   ]
  },
  {
   "cell_type": "code",
   "execution_count": 8,
   "metadata": {},
   "outputs": [
    {
     "name": "stdout",
     "output_type": "stream",
     "text": [
      "Nuestro_Planeta\n"
     ]
    }
   ],
   "source": [
    "# Creacion de un diccionario\n",
    "planet = {\n",
    "    'name': 'Nuestro_Planeta',\n",
    "    'moons': 1\n",
    "}\n",
    "\n",
    "print(planet.get('name'))\n"
   ]
  },
  {
   "cell_type": "code",
   "execution_count": 9,
   "metadata": {},
   "outputs": [
    {
     "name": "stdout",
     "output_type": "stream",
     "text": [
      "Nuestro_Planeta\n"
     ]
    }
   ],
   "source": [
    "# Ejemplo sin usar el comando get. Sin embargo, la diferencia es que cuando no exista la clave, en este caso 'name',\n",
    "# get regresa None y [] regresa KerError\n",
    "print(planet['name'])\n"
   ]
  },
  {
   "cell_type": "code",
   "execution_count": 10,
   "metadata": {},
   "outputs": [
    {
     "name": "stdout",
     "output_type": "stream",
     "text": [
      "{'name': 'Earth', 'moons': 1}\n"
     ]
    }
   ],
   "source": [
    "# Modificar elementos del diccionario con el comando update\n",
    "# Cambia el nombre 'name' por Makename\n",
    "\n",
    "planet.update({'name': 'Earth'})\n",
    "\n",
    "# name ahora es NuevoNombre\n",
    "print(planet)"
   ]
  },
  {
   "cell_type": "code",
   "execution_count": 12,
   "metadata": {},
   "outputs": [
    {
     "name": "stdout",
     "output_type": "stream",
     "text": [
      "{'name': 'NuevoNombre', 'moons': 1}\n"
     ]
    }
   ],
   "source": [
    "# Otra opcion para cambiar el valor de 'name' de Earth a NuevoNombre\n",
    "planet['name'] = 'NuevoNombre'\n",
    "\n",
    "# name is now set to Makemake\n",
    "print(planet)"
   ]
  },
  {
   "cell_type": "code",
   "execution_count": 13,
   "metadata": {},
   "outputs": [
    {
     "name": "stdout",
     "output_type": "stream",
     "text": [
      "{'name': 'Jupiter', 'moons': 79}\n",
      "{'name': 'Jupiter', 'moons': 79}\n"
     ]
    }
   ],
   "source": [
    "# Opciones para actualizar valores\n",
    "# Usando update\n",
    "planet.update({\n",
    "    'name': 'Jupiter',\n",
    "    'moons': 79\n",
    "})\n",
    "print(planet)\n",
    "\n",
    "# Usando corchetes\n",
    "planet['name'] = 'Jupiter'\n",
    "planet['moons'] = 79\n",
    "print(planet)"
   ]
  },
  {
   "cell_type": "code",
   "execution_count": 16,
   "metadata": {},
   "outputs": [
    {
     "name": "stdout",
     "output_type": "stream",
     "text": [
      "Se agrega elemento 'orbital period' al diccionario 'planet' {'name': 'Jupiter', 'moons': 79, 'orbital period': 4333}\n",
      "Se elimina el elemento 'orbital period' al diccionario 'planet' {'name': 'Jupiter', 'moons': 79}\n"
     ]
    }
   ],
   "source": [
    "# Agregar claves al diccionario\n",
    "planet['orbital period'] = 4333\n",
    "print(\"Se agrega elemento 'orbital period' al diccionario 'planet'\", planet)\n",
    "\n",
    "# Se elimina la clave 'name' con el comando pop\n",
    "# Se elimina el elemento 'orbital period'\n",
    "planet.pop('orbital period')\n",
    "print(\"Se elimina el elemento 'orbital period' al diccionario 'planet'\", planet)\n"
   ]
  },
  {
   "cell_type": "code",
   "execution_count": 17,
   "metadata": {},
   "outputs": [
    {
     "name": "stdout",
     "output_type": "stream",
     "text": [
      "El diccionario actualizado planet queda como sigue:  {'name': 'Jupiter', 'moons': 79, 'diameter (km)': {'polar': 133709, 'equatorial': 142984}}\n"
     ]
    }
   ],
   "source": [
    "# Agregamos el diccionario 'diameter (km)'\n",
    "# Añadimos los datos del diametro del planeta medido en los polos y en el acuador\n",
    "planet['diameter (km)'] = {\n",
    "    'polar': 133709,\n",
    "    'equatorial': 142984\n",
    "}\n",
    "\n",
    "print('El diccionario actualizado planet queda como sigue: ', planet)"
   ]
  },
  {
   "cell_type": "code",
   "execution_count": 23,
   "metadata": {},
   "outputs": [
    {
     "name": "stdout",
     "output_type": "stream",
     "text": [
      "The planet Jupiter has a polar diameter: 133709\n"
     ]
    }
   ],
   "source": [
    "# Obtener valores del diccionario anidado\n",
    "print(f'The planet {planet[\"name\"]} has a polar diameter: {planet[\"diameter (km)\"][\"polar\"]}')"
   ]
  },
  {
   "cell_type": "code",
   "execution_count": 31,
   "metadata": {},
   "outputs": [
    {
     "name": "stdout",
     "output_type": "stream",
     "text": [
      "{'october': 3.5, 'november': 4.2, 'december': 2.1}\n"
     ]
    }
   ],
   "source": [
    "# recuperacion de todas las claves y valores utilizando key()\n",
    "# los siguientes valores son los ultimos 3 meses de precipitaciones en cm\n",
    "rainfall = {\n",
    "    'october': 3.5,\n",
    "    'november': 4.2,\n",
    "    'december': 2.1\n",
    "}\n",
    "\n",
    "print(rainfall)\n"
   ]
  },
  {
   "cell_type": "code",
   "execution_count": 27,
   "metadata": {},
   "outputs": [
    {
     "name": "stdout",
     "output_type": "stream",
     "text": [
      "october: 3.5 cm\n",
      "november: 4.2 cm\n",
      "december: 2.1 cm\n"
     ]
    }
   ],
   "source": [
    "# Mostrar la lista con todas las precipitaciones\n",
    "for key in rainfall.keys():\n",
    "    print(f'{key}: {rainfall[key]} cm')"
   ]
  },
  {
   "cell_type": "code",
   "execution_count": 32,
   "metadata": {},
   "outputs": [
    {
     "name": "stdout",
     "output_type": "stream",
     "text": [
      "{'october': 3.5, 'november': 4.2, 'december': 3.1} cm\n"
     ]
    }
   ],
   "source": [
    "# Determina la existencia de una clave en un diccionario\n",
    "# Podemos vverificar que el elemento exista y si es asi, modificar su valor\n",
    "# Vamos a verificar que exista 'december' y en su caso, adicionar 1 al valor, de lo contrario, vamos a agregarlo con valor 1\n",
    "if 'december' in rainfall:\n",
    "    rainfall['december'] = rainfall['december'] + 1\n",
    "else:\n",
    "    rainfall['december'] = 1\n",
    "\n",
    "print(f'{rainfall} cm')"
   ]
  },
  {
   "cell_type": "code",
   "execution_count": 34,
   "metadata": {},
   "outputs": [
    {
     "name": "stdout",
     "output_type": "stream",
     "text": [
      "There was 10.8 cm in the last quarter\n"
     ]
    }
   ],
   "source": [
    "# Recupera todos los valores de un diccionario\n",
    "# Inicia el total de precipitaciones\n",
    "total_rainfall = 0\n",
    "\n",
    "# Para cada valor en los valores de rainfall\n",
    "for value in rainfall.values():\n",
    "    \n",
    "    # El total de las precipitaciones será igual a ese mismo + el valor que se está iterando\n",
    "    total_rainfall = total_rainfall + value\n",
    "\n",
    "# Muestra 'Hay un total de precipitaciones (el valor total) en cm en el último trimestre\n",
    "print(f'There was {total_rainfall} cm in the last quarter')\n"
   ]
  },
  {
   "cell_type": "code",
   "execution_count": 35,
   "metadata": {},
   "outputs": [
    {
     "name": "stdout",
     "output_type": "stream",
     "text": [
      "{'name': 'Mars', 'moons': 2}\n"
     ]
    }
   ],
   "source": [
    "# Ejercicio 1: Creacion de diccionarios en Python\n",
    "info_mars = {\n",
    "    'name': 'Mars',\n",
    "    'moons': 2\n",
    "}\n",
    "\n",
    "print(info_mars)"
   ]
  },
  {
   "cell_type": "code",
   "execution_count": 41,
   "metadata": {},
   "outputs": [
    {
     "name": "stdout",
     "output_type": "stream",
     "text": [
      "Nombre del planeta: Mars\n",
      "Numero de lunas: 2\n"
     ]
    }
   ],
   "source": [
    "print(\"Nombre del planeta:\", info_mars['name'])\n",
    "print(\"Numero de lunas:\", info_mars['moons'])"
   ]
  },
  {
   "cell_type": "code",
   "execution_count": 43,
   "metadata": {},
   "outputs": [
    {
     "name": "stdout",
     "output_type": "stream",
     "text": [
      "{'name': 'Mars', 'moons': 2, 'diameter (km)': {'polar': 6752, 'equatorial': 6792}}\n",
      "The planet Mars has a polar diameter: 6752\n"
     ]
    }
   ],
   "source": [
    "# Agregamos el diametro polar y ecuatorial de Marte\n",
    "info_mars['diameter (km)'] = {\n",
    "    'polar': 6752,\n",
    "    'equatorial': 6792\n",
    "}\n",
    "\n",
    "print(info_mars)\n",
    "print(f'The planet {info_mars[\"name\"]} has a polar diameter: {info_mars[\"diameter (km)\"][\"polar\"]}')"
   ]
  },
  {
   "cell_type": "code",
   "execution_count": 45,
   "metadata": {},
   "outputs": [],
   "source": [
    "# Programacion dinamica con diccionarios\n",
    "# Planets and moons\n",
    "planet_moons = {\n",
    "    'mercury': 0,\n",
    "    'venus': 0,\n",
    "    'earth': 1,\n",
    "    'mars': 2,\n",
    "    'jupiter': 79,\n",
    "    'saturn': 82,\n",
    "    'uranus': 27,\n",
    "    'neptune': 14,\n",
    "    'pluto': 5,\n",
    "    'haumea': 2,\n",
    "    'makemake': 1,\n",
    "    'eris': 1\n",
    "}\n"
   ]
  },
  {
   "cell_type": "code",
   "execution_count": 50,
   "metadata": {},
   "outputs": [
    {
     "name": "stdout",
     "output_type": "stream",
     "text": [
      "There are 214 moons in all planets\n",
      "The average moons for each planets is: 17.833333333333332\n"
     ]
    }
   ],
   "source": [
    "# Almacenamiento de las lunas y el total de planetas\n",
    "moons = planet_moons.values()\n",
    "planets = len(planet_moons.keys())\n",
    "\n",
    "\n",
    "\n",
    "\n",
    "# Calculo del numero total de lunas \n",
    "total_moons = 0\n",
    "\n",
    "# Para cada valor en los valores de rainfall\n",
    "for value in planet_moons.values():\n",
    "    \n",
    "    # El total de las precipitaciones será igual a ese mismo + el valor que se está iterando\n",
    "    total_moons = total_moons + value\n",
    "\n",
    "# Muestra 'Hay un total de precipitaciones (el valor total) en cm en el último trimestre\n",
    "print(f'There are {total_moons} moons in all planets')\n",
    "\n",
    "# Promedio de lunas por planeta\n",
    "avg_moons = total_moons / planets\n",
    "print(\"The average moons for each planets is:\", avg_moons)"
   ]
  }
 ],
 "metadata": {
  "kernelspec": {
   "display_name": "Python 3",
   "language": "python",
   "name": "python3"
  },
  "language_info": {
   "codemirror_mode": {
    "name": "ipython",
    "version": 3
   },
   "file_extension": ".py",
   "mimetype": "text/x-python",
   "name": "python",
   "nbconvert_exporter": "python",
   "pygments_lexer": "ipython3",
   "version": "3.11.4"
  },
  "orig_nbformat": 4
 },
 "nbformat": 4,
 "nbformat_minor": 2
}
