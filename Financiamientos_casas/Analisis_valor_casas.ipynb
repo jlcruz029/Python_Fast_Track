{
  "cells": [
    {
      "cell_type": "code",
      "execution_count": null,
      "metadata": {
        "id": "YzFyzFdvmWfH"
      },
      "outputs": [],
      "source": [
        "!pip install pandas\n",
        "!pip install gdown"
      ]
    },
    {
      "cell_type": "code",
      "execution_count": 1,
      "metadata": {
        "id": "SfCdLIqoQADh"
      },
      "outputs": [],
      "source": [
        "import pandas as pd\n",
        "import numpy as np\n"
      ]
    },
    {
      "cell_type": "markdown",
      "metadata": {
        "id": "cHug6QapQXmI"
      },
      "source": [
        "# Descargar datos limpios\n",
        "Inventario de vivienda\n",
        "Contiene la información que da cuenta de las viviendas y el entorno urbano en el que se están desarrollando.\n",
        "\n",
        "Año:\n",
        "2017 al 2023\n",
        "\n",
        "- [Link](https://sniiv.sedatu.gob.mx/Reporte/Datos_abiertos)\n",
        "- [Diccionario](https://sniiv.sedatu.gob.mx/Reporte/Datos_abiertos#:~:text=Diccionario%20de%20datos)\n"
      ]
    },
    {
      "cell_type": "code",
      "execution_count": null,
      "metadata": {
        "id": "ojG3DPGgSQM4"
      },
      "outputs": [],
      "source": [
        "!git clone https://github.com/javierIA/infonavit.git"
      ]
    },
    {
      "cell_type": "code",
      "execution_count": null,
      "metadata": {
        "id": "XKhJULRTmS2O"
      },
      "outputs": [],
      "source": [
        "#@title UnirVarios DTF CON EL mismo formato\n",
        "import pandas as pd\n",
        "import os\n",
        "\n",
        "# Create an empty list to store the dataframes\n",
        "dfs = []\n",
        "\n",
        "# Iterate over each CSV file in the \"Datos\" directory\n",
        "for file_name in os.listdir(\"infonavit\"):\n",
        "    if file_name.endswith(\".csv\"):\n",
        "        file_path = os.path.join(\"infonavit\", file_name)\n",
        "        df = pd.read_csv(file_path, encoding=\"latin1\")\n",
        "        dfs.append(df)\n",
        "\n",
        "# Concatenate all dataframes into a single dataframe\n",
        "merged_df = pd.concat(dfs, ignore_index=True)\n",
        "\n",
        "# Convert merged dataframe to Parquet format\n",
        "output_file = \"merged_data.parquet\"\n",
        "merged_df.to_parquet(output_file, engine=\"pyarrow\")\n",
        "\n",
        "print(f\"Data converted to Parquet format and saved as {output_file}\")\n"
      ]
    },
    {
      "cell_type": "code",
      "execution_count": null,
      "metadata": {
        "id": "b6DAcjXKrTEE"
      },
      "outputs": [],
      "source": [
        "db=pd.read_parquet(\"/content/merged_data.parquet\")\n",
        "\n",
        "db.sample(10)\n"
      ]
    },
    {
      "cell_type": "markdown",
      "metadata": {
        "id": "Yk0eMLSOurOf"
      },
      "source": [
        "# Llenar un columna con datos vacios de otra"
      ]
    },
    {
      "cell_type": "code",
      "execution_count": null,
      "metadata": {
        "id": "cQ_MwH99vRLK"
      },
      "outputs": [],
      "source": [
        "db.describe().T"
      ]
    },
    {
      "cell_type": "code",
      "execution_count": null,
      "metadata": {
        "id": "b0L5kHXPv04V"
      },
      "outputs": [],
      "source": [
        "valores_nulos = db.isnull().sum()\n",
        "porcentajes_nulos = valores_nulos / db.shape[0] * 100\n",
        "porcentajes_nulos_ordenados = porcentajes_nulos.sort_values(ascending=False)\n",
        "porcentajes_nulos_ordenados"
      ]
    },
    {
      "cell_type": "code",
      "execution_count": null,
      "metadata": {
        "id": "G96DnMtAu4Xk"
      },
      "outputs": [],
      "source": [
        "db['municipio'] = db['municipio'].fillna(db['minicipio']) # llena las columnas faltantes de municipio\n",
        "db['año'] = db['año'].fillna(db['aÃ±o']) # llena las columnas de año\n",
        "db.drop(['aÃ±o','minicipio'], axis=1, inplace=True)\n",
        "db"
      ]
    },
    {
      "cell_type": "markdown",
      "metadata": {
        "id": "PxRnt4RbGGtj"
      },
      "source": []
    },
    {
      "cell_type": "markdown",
      "metadata": {
        "id": "7bu4RIgkFGRw"
      },
      "source": [
        "# Re ordenar las columnas de acuerdo orden original\n"
      ]
    },
    {
      "cell_type": "code",
      "execution_count": null,
      "metadata": {
        "id": "t4B-gz7uxPkx"
      },
      "outputs": [],
      "source": [
        "column_order = ['año', 'municipio', 'mes', 'cve_ent', 'entidad', 'cve_mun', 'organismo', 'modalidad', 'destino', 'tipo', 'sexo', 'edad_rango', 'ingresos_rango', 'vivienda_valor', 'acciones', 'monto']\n",
        "\n",
        "db = db.reindex(columns=column_order)"
      ]
    },
    {
      "cell_type": "code",
      "execution_count": null,
      "metadata": {
        "id": "ieAEVAInvvAj"
      },
      "outputs": [],
      "source": [
        "db.info()"
      ]
    },
    {
      "cell_type": "markdown",
      "metadata": {
        "id": "B2M3Mq5-IWHy"
      },
      "source": [
        "# Diccionario\n",
        "\n",
        "Para reemplazar los códigos de rango de edad con sus descripciones correspondientes en la columna 'edad_rango', puedes utilizar el método replace de pandas. Aquí tienes un ejemplo de cómo hacerlo"
      ]
    },
    {
      "cell_type": "code",
      "execution_count": null,
      "metadata": {
        "id": "DNYYkudaIQSi"
      },
      "outputs": [],
      "source": [
        "# Diccionario para la edad\n",
        "age_dict = {\n",
        "    1: '29 o menos',\n",
        "    2: '30 a 59',\n",
        "    3: '60 o más',\n",
        "    4: 'No especificado'\n",
        "}\n",
        "\n",
        "db['edad_rango'] = db['edad_rango'].replace(age_dict)\n",
        "db.edad_rango"
      ]
    },
    {
      "cell_type": "code",
      "execution_count": null,
      "metadata": {
        "id": "o0ZXe8gSPRYm"
      },
      "outputs": [],
      "source": [
        "# Supongamos que 'merged_df' es el dataframe combinado\n",
        "income_dict = {\n",
        "    1: '2.6 o menos',\n",
        "    2: '2.61 a 4.00',\n",
        "    3: '4.01 a 6.00',\n",
        "    4: '6.01 a 9.00',\n",
        "    5: '9.01 a 12.00',\n",
        "    6: 'Más de 12',\n",
        "    7: 'No especificado'\n",
        "}\n",
        "\n",
        "# Reemplazar los códigos de rango de ingresos con las descripciones correspondientes\n",
        "db['ingresos_rango'] = db['ingresos_rango'].replace(income_dict)\n",
        "\n",
        "# Imprimir el dataframe actualizado\n",
        "print(db)\n"
      ]
    },
    {
      "cell_type": "markdown",
      "metadata": {
        "id": "C_6gY4EjV5ZL"
      },
      "source": [
        "Para reemplazar los códigos de valor de vivienda con sus descripciones correspondientes en la columna 'vivienda_valor', puedes utilizar el método replace de pandas. Aquí tienes un ejemplo de cómo hacerlo:\n",
        "\n"
      ]
    },
    {
      "cell_type": "code",
      "execution_count": null,
      "metadata": {
        "id": "yAeZyFehVcR-"
      },
      "outputs": [],
      "source": [
        "housing_dict = {\n",
        "    1: 'Económica',\n",
        "    2: 'Popular',\n",
        "    3: 'Tradicional',\n",
        "    4: 'Media',\n",
        "    5: 'Residencial',\n",
        "    6: 'Residencial plus',\n",
        "    7: 'No especificado'\n",
        "}\n",
        "\n",
        "db['vivienda_valor'] = db['vivienda_valor'].replace(housing_dict)\n",
        "\n",
        "print(db)\n"
      ]
    },
    {
      "cell_type": "code",
      "execution_count": null,
      "metadata": {
        "id": "YEtMOFsHXbXX"
      },
      "outputs": [],
      "source": [
        "organism_dict = {\n",
        "    1: \"INFONAVIT\",\n",
        "    2: \"CNBV\",\n",
        "    3: \"FOVISSSTE\",\n",
        "    4: \"SHF\",\n",
        "    5: \"CONAVI\",\n",
        "    6: \"INVI\",\n",
        "    7: \"Banjercito\",\n",
        "    8: \"Hábitat México\",\n",
        "    9: \"CFE\",\n",
        "    10: \"ISSFAM\",\n",
        "    11: \"PEMEX\",\n",
        "    12: \"FONHAPO\",\n",
        "    13: \"PDZP SEDESOL\",\n",
        "    14: \"SOFOLES AMFE\",\n",
        "    15: \"ISSSTELEON\",\n",
        "    16: \"INDIVI\",\n",
        "    17: \"COVEG\",\n",
        "    18: \"COESVI\",\n",
        "    19: \"IMEVIS\",\n",
        "    20: \"IVEM\",\n",
        "    21: \"ITAVU\",\n",
        "    22: \"IVNL\",\n",
        "    23: \"INVIVIENDA\",\n",
        "    24: \"IVEY\",\n",
        "    25: \"INFOVIR\",\n",
        "    26: \"Instituto Nacional del Suelo Sustentable\"\n",
        "}\n",
        "\n",
        "db['organismo'].replace(organism_dict, inplace=True)\n",
        "\n",
        "print(db)\n"
      ]
    },
    {
      "cell_type": "markdown",
      "metadata": {
        "id": "ajIfdKlgXp1P"
      },
      "source": [
        "Graficar con m"
      ]
    },
    {
      "cell_type": "code",
      "execution_count": null,
      "metadata": {
        "id": "GjHJofbZX3ZC"
      },
      "outputs": [],
      "source": [
        "# creamos el archivo data.csv\n",
        "db.to_csv(\"data.csv\")\n",
        "db.head(10)"
      ]
    },
    {
      "cell_type": "code",
      "execution_count": null,
      "metadata": {
        "id": "Yxuo07I6gShO"
      },
      "outputs": [],
      "source": [
        "db.shape"
      ]
    },
    {
      "cell_type": "markdown",
      "metadata": {
        "id": "jr0wAYjOhRTP"
      },
      "source": [
        "\n",
        "\n",
        "---\n",
        "# Haz un histograma de la columna 'año'\n",
        "\n"
      ]
    },
    {
      "cell_type": "code",
      "execution_count": null,
      "metadata": {
        "id": "FxG0XXE3hAKK"
      },
      "outputs": [],
      "source": [
        "import matplotlib.pyplot as plt\n",
        "\n",
        "# Haz un histograma de la columna 'año'\n",
        "db['año'].hist(bins=30, edgecolor='black')\n",
        "\n",
        "# Añade títulos y etiquetas\n",
        "plt.title('Histograma de Años')\n",
        "plt.xlabel('Año')\n",
        "plt.ylabel('Frecuencia')\n"
      ]
    },
    {
      "cell_type": "code",
      "execution_count": null,
      "metadata": {
        "id": "BzfG_MunkOx_"
      },
      "outputs": [],
      "source": [
        "# Visualizar tabla previo a la grafica\n",
        "print(db['organismo'].value_counts())\n",
        "\n",
        "# Elabora la grafica\n",
        "db['organismo'].value_counts().plot(kind='bar')\n",
        "plt.title('Número de Acciones por Organismo')\n",
        "plt.xlabel('Organismo')\n",
        "plt.ylabel('Número de Acciones')\n",
        "plt.show()\n"
      ]
    },
    {
      "cell_type": "code",
      "execution_count": null,
      "metadata": {
        "id": "jN38LjNehnIy"
      },
      "outputs": [],
      "source": [
        "data_grouped = db.groupby('año')['monto'].mean()\n",
        "\n",
        "# Dibuja el gráfico de líneas\n",
        "plt.figure(figsize=(10,6))\n",
        "plt.plot(data_grouped.index, data_grouped.values, marker='o')\n",
        "\n",
        "# Añade títulos y etiquetas\n",
        "plt.title('Variacion en el Monto a lo largo de los Años')\n",
        "plt.xlabel('Año')\n",
        "plt.ylabel('Monto Promedio')\n",
        "\n",
        "# Muestra el gráfico\n",
        "plt.show()"
      ]
    },
    {
      "cell_type": "code",
      "execution_count": null,
      "metadata": {
        "id": "WojYrtiDnBS9"
      },
      "outputs": [],
      "source": [
        "db.shape"
      ]
    },
    {
      "cell_type": "markdown",
      "metadata": {
        "id": "tRxzlaMVlN13"
      },
      "source": [
        "# Se duplico el gasto de costo de vivienda"
      ]
    }
  ],
  "metadata": {
    "colab": {
      "private_outputs": true,
      "provenance": []
    },
    "kernelspec": {
      "display_name": "Python 3",
      "name": "python3"
    },
    "language_info": {
      "codemirror_mode": {
        "name": "ipython",
        "version": 3
      },
      "file_extension": ".py",
      "mimetype": "text/x-python",
      "name": "python",
      "nbconvert_exporter": "python",
      "pygments_lexer": "ipython3",
      "version": "3.11.4"
    }
  },
  "nbformat": 4,
  "nbformat_minor": 0
}
