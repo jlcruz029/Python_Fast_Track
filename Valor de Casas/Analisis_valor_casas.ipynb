{
  "nbformat": 4,
  "nbformat_minor": 0,
  "metadata": {
    "colab": {
      "private_outputs": true,
      "provenance": []
    },
    "kernelspec": {
      "name": "python3",
      "display_name": "Python 3"
    },
    "language_info": {
      "name": "python"
    }
  },
  "cells": [
    {
      "cell_type": "code",
      "source": [
        "!pip install pandas\n",
        "!pip install gdown"
      ],
      "metadata": {
        "id": "YzFyzFdvmWfH"
      },
      "execution_count": null,
      "outputs": []
    },
    {
      "cell_type": "code",
      "execution_count": null,
      "metadata": {
        "id": "SfCdLIqoQADh"
      },
      "outputs": [],
      "source": [
        "import pandas as pd\n",
        "import numpy as np\n"
      ]
    },
    {
      "cell_type": "markdown",
      "source": [
        "# Descargar datos limpios\n",
        "Inventario de vivienda\n",
        "Contiene la información que da cuenta de las viviendas y el entorno urbano en el que se están desarrollando.\n",
        "\n",
        "Año:\n",
        "2017 al 2023\n",
        "\n",
        "- [Link](https://sniiv.sedatu.gob.mx/Reporte/Datos_abiertos)\n",
        "- [Diccionario](https://sniiv.sedatu.gob.mx/Reporte/Datos_abiertos#:~:text=Diccionario%20de%20datos)\n"
      ],
      "metadata": {
        "id": "cHug6QapQXmI"
      }
    },
    {
      "cell_type": "code",
      "source": [
        "!git clone https://github.com/javierIA/infonavit.git"
      ],
      "metadata": {
        "id": "ojG3DPGgSQM4"
      },
      "execution_count": null,
      "outputs": []
    },
    {
      "cell_type": "code",
      "source": [
        "#@title UnirVarios DTF CON EL mismo formato\n",
        "import pandas as pd\n",
        "import os\n",
        "\n",
        "# Create an empty list to store the dataframes\n",
        "dfs = []\n",
        "\n",
        "# Iterate over each CSV file in the \"Datos\" directory\n",
        "for file_name in os.listdir(\"infonavit\"):\n",
        "    if file_name.endswith(\".csv\"):\n",
        "        file_path = os.path.join(\"infonavit\", file_name)\n",
        "        df = pd.read_csv(file_path, encoding=\"latin1\")\n",
        "        dfs.append(df)\n",
        "\n",
        "# Concatenate all dataframes into a single dataframe\n",
        "merged_df = pd.concat(dfs, ignore_index=True)\n",
        "\n",
        "# Convert merged dataframe to Parquet format\n",
        "output_file = \"merged_data.parquet\"\n",
        "merged_df.to_parquet(output_file, engine=\"pyarrow\")\n",
        "\n",
        "print(f\"Data converted to Parquet format and saved as {output_file}\")\n"
      ],
      "metadata": {
        "id": "XKhJULRTmS2O"
      },
      "execution_count": null,
      "outputs": []
    },
    {
      "cell_type": "code",
      "source": [
        "db=pd.read_parquet(\"/content/merged_data.parquet\")\n",
        "\n",
        "db.sample(10)\n"
      ],
      "metadata": {
        "id": "b6DAcjXKrTEE"
      },
      "execution_count": null,
      "outputs": []
    },
    {
      "cell_type": "markdown",
      "source": [
        "# Llenar un columna con datos vacios de otra"
      ],
      "metadata": {
        "id": "Yk0eMLSOurOf"
      }
    },
    {
      "cell_type": "code",
      "source": [
        "db.describe().T"
      ],
      "metadata": {
        "id": "cQ_MwH99vRLK"
      },
      "execution_count": null,
      "outputs": []
    },
    {
      "cell_type": "code",
      "source": [
        "valores_nulos = db.isnull().sum()\n",
        "porcentajes_nulos = valores_nulos / db.shape[0] * 100\n",
        "porcentajes_nulos_ordenados = porcentajes_nulos.sort_values(ascending=False)\n",
        "porcentajes_nulos_ordenados"
      ],
      "metadata": {
        "id": "b0L5kHXPv04V"
      },
      "execution_count": null,
      "outputs": []
    },
    {
      "cell_type": "code",
      "source": [
        "db['municipio'] = db['municipio'].fillna(db['minicipio']) # llena las columnas faltantes de municipio\n",
        "db['año'] = db['año'].fillna(db['aÃ±o']) # llena las columnas de año\n",
        "db.drop(['aÃ±o','minicipio'], axis=1, inplace=True)\n",
        "db"
      ],
      "metadata": {
        "id": "G96DnMtAu4Xk"
      },
      "execution_count": null,
      "outputs": []
    },
    {
      "cell_type": "markdown",
      "source": [],
      "metadata": {
        "id": "PxRnt4RbGGtj"
      }
    },
    {
      "cell_type": "markdown",
      "source": [
        "# Re ordenar las columnas de acuerdo orden original\n"
      ],
      "metadata": {
        "id": "7bu4RIgkFGRw"
      }
    },
    {
      "cell_type": "code",
      "source": [
        "column_order = ['año', 'municipio', 'mes', 'cve_ent', 'entidad', 'cve_mun', 'organismo', 'modalidad', 'destino', 'tipo', 'sexo', 'edad_rango', 'ingresos_rango', 'vivienda_valor', 'acciones', 'monto']\n",
        "\n",
        "db = db.reindex(columns=column_order)"
      ],
      "metadata": {
        "id": "t4B-gz7uxPkx"
      },
      "execution_count": null,
      "outputs": []
    },
    {
      "cell_type": "code",
      "source": [
        "db.info()"
      ],
      "metadata": {
        "id": "ieAEVAInvvAj"
      },
      "execution_count": null,
      "outputs": []
    },
    {
      "cell_type": "markdown",
      "source": [
        "# Diccionario\n",
        "\n",
        "Para reemplazar los códigos de rango de edad con sus descripciones correspondientes en la columna 'edad_rango', puedes utilizar el método replace de pandas. Aquí tienes un ejemplo de cómo hacerlo"
      ],
      "metadata": {
        "id": "B2M3Mq5-IWHy"
      }
    },
    {
      "cell_type": "code",
      "source": [
        "# Diccionario para la edad\n",
        "age_dict = {\n",
        "    1: '29 o menos',\n",
        "    2: '30 a 59',\n",
        "    3: '60 o más',\n",
        "    4: 'No especificado'\n",
        "}\n",
        "\n",
        "db['edad_rango'] = db['edad_rango'].replace(age_dict)\n",
        "db.edad_rango"
      ],
      "metadata": {
        "id": "DNYYkudaIQSi"
      },
      "execution_count": null,
      "outputs": []
    },
    {
      "cell_type": "code",
      "source": [
        "# Supongamos que 'merged_df' es el dataframe combinado\n",
        "income_dict = {\n",
        "    1: '2.6 o menos',\n",
        "    2: '2.61 a 4.00',\n",
        "    3: '4.01 a 6.00',\n",
        "    4: '6.01 a 9.00',\n",
        "    5: '9.01 a 12.00',\n",
        "    6: 'Más de 12',\n",
        "    7: 'No especificado'\n",
        "}\n",
        "\n",
        "# Reemplazar los códigos de rango de ingresos con las descripciones correspondientes\n",
        "db['ingresos_rango'] = db['ingresos_rango'].replace(income_dict)\n",
        "\n",
        "# Imprimir el dataframe actualizado\n",
        "print(db)\n"
      ],
      "metadata": {
        "id": "o0ZXe8gSPRYm"
      },
      "execution_count": null,
      "outputs": []
    },
    {
      "cell_type": "markdown",
      "source": [
        "Para reemplazar los códigos de valor de vivienda con sus descripciones correspondientes en la columna 'vivienda_valor', puedes utilizar el método replace de pandas. Aquí tienes un ejemplo de cómo hacerlo:\n",
        "\n"
      ],
      "metadata": {
        "id": "C_6gY4EjV5ZL"
      }
    },
    {
      "cell_type": "code",
      "source": [
        "housing_dict = {\n",
        "    1: 'Económica',\n",
        "    2: 'Popular',\n",
        "    3: 'Tradicional',\n",
        "    4: 'Media',\n",
        "    5: 'Residencial',\n",
        "    6: 'Residencial plus',\n",
        "    7: 'No especificado'\n",
        "}\n",
        "\n",
        "db['vivienda_valor'] = db['vivienda_valor'].replace(housing_dict)\n",
        "\n",
        "print(db)\n"
      ],
      "metadata": {
        "id": "yAeZyFehVcR-"
      },
      "execution_count": null,
      "outputs": []
    },
    {
      "cell_type": "code",
      "source": [
        "organism_dict = {\n",
        "    1: \"INFONAVIT\",\n",
        "    2: \"CNBV\",\n",
        "    3: \"FOVISSSTE\",\n",
        "    4: \"SHF\",\n",
        "    5: \"CONAVI\",\n",
        "    6: \"INVI\",\n",
        "    7: \"Banjercito\",\n",
        "    8: \"Hábitat México\",\n",
        "    9: \"CFE\",\n",
        "    10: \"ISSFAM\",\n",
        "    11: \"PEMEX\",\n",
        "    12: \"FONHAPO\",\n",
        "    13: \"PDZP SEDESOL\",\n",
        "    14: \"SOFOLES AMFE\",\n",
        "    15: \"ISSSTELEON\",\n",
        "    16: \"INDIVI\",\n",
        "    17: \"COVEG\",\n",
        "    18: \"COESVI\",\n",
        "    19: \"IMEVIS\",\n",
        "    20: \"IVEM\",\n",
        "    21: \"ITAVU\",\n",
        "    22: \"IVNL\",\n",
        "    23: \"INVIVIENDA\",\n",
        "    24: \"IVEY\",\n",
        "    25: \"INFOVIR\",\n",
        "    26: \"Instituto Nacional del Suelo Sustentable\"\n",
        "}\n",
        "\n",
        "db['organismo'].replace(organism_dict, inplace=True)\n",
        "\n",
        "print(db)\n"
      ],
      "metadata": {
        "id": "YEtMOFsHXbXX"
      },
      "execution_count": null,
      "outputs": []
    },
    {
      "cell_type": "markdown",
      "source": [
        "Graficar con m"
      ],
      "metadata": {
        "id": "ajIfdKlgXp1P"
      }
    },
    {
      "cell_type": "code",
      "source": [
        "# creamos el archivo data.csv\n",
        "db.to_csv(\"data.csv\")\n",
        "db.head(10)"
      ],
      "metadata": {
        "id": "GjHJofbZX3ZC"
      },
      "execution_count": null,
      "outputs": []
    },
    {
      "cell_type": "code",
      "source": [
        "db.shape"
      ],
      "metadata": {
        "id": "Yxuo07I6gShO"
      },
      "execution_count": null,
      "outputs": []
    },
    {
      "cell_type": "markdown",
      "source": [
        "\n",
        "\n",
        "---\n",
        "# Haz un histograma de la columna 'año'\n",
        "\n"
      ],
      "metadata": {
        "id": "jr0wAYjOhRTP"
      }
    },
    {
      "cell_type": "code",
      "source": [
        "import matplotlib.pyplot as plt\n",
        "\n",
        "# Haz un histograma de la columna 'año'\n",
        "db['año'].hist(bins=30, edgecolor='black')\n",
        "\n",
        "# Añade títulos y etiquetas\n",
        "plt.title('Histograma de Años')\n",
        "plt.xlabel('Año')\n",
        "plt.ylabel('Frecuencia')\n"
      ],
      "metadata": {
        "id": "FxG0XXE3hAKK"
      },
      "execution_count": null,
      "outputs": []
    },
    {
      "cell_type": "code",
      "source": [
        "# Visualizar tabla previo a la grafica\n",
        "print(db['organismo'].value_counts())\n",
        "\n",
        "# Elabora la grafica\n",
        "db['organismo'].value_counts().plot(kind='bar')\n",
        "plt.title('Número de Acciones por Organismo')\n",
        "plt.xlabel('Organismo')\n",
        "plt.ylabel('Número de Acciones')\n",
        "plt.show()\n"
      ],
      "metadata": {
        "id": "BzfG_MunkOx_"
      },
      "execution_count": null,
      "outputs": []
    },
    {
      "cell_type": "code",
      "source": [
        "data_grouped = db.groupby('año')['monto'].mean()\n",
        "\n",
        "# Dibuja el gráfico de líneas\n",
        "plt.figure(figsize=(10,6))\n",
        "plt.plot(data_grouped.index, data_grouped.values, marker='o')\n",
        "\n",
        "# Añade títulos y etiquetas\n",
        "plt.title('Variacion en el Monto a lo largo de los Años')\n",
        "plt.xlabel('Año')\n",
        "plt.ylabel('Monto Promedio')\n",
        "\n",
        "# Muestra el gráfico\n",
        "plt.show()"
      ],
      "metadata": {
        "id": "jN38LjNehnIy"
      },
      "execution_count": null,
      "outputs": []
    },
    {
      "cell_type": "code",
      "source": [
        "db.shape"
      ],
      "metadata": {
        "id": "WojYrtiDnBS9"
      },
      "execution_count": null,
      "outputs": []
    },
    {
      "cell_type": "markdown",
      "source": [
        "# Se duplico el gasto de costo de vivienda"
      ],
      "metadata": {
        "id": "tRxzlaMVlN13"
      }
    }
  ]
}